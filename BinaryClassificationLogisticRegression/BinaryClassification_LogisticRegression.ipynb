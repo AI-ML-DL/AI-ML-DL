{
 "cells": [
  {
   "cell_type": "markdown",
   "metadata": {},
   "source": [
    "#### [학습에 필요한 모듈 선언]"
   ]
  },
  {
   "cell_type": "code",
   "execution_count": 1,
   "metadata": {
    "collapsed": true
   },
   "outputs": [],
   "source": [
    "import tensorflow as tf\n",
    "import numpy as np\n",
    "from numpy.random import multivariate_normal, permutation\n",
    "import pandas as pd\n",
    "from pandas import DataFrame\n",
    "%matplotlib inline\n",
    "from matplotlib import pyplot as plt"
   ]
  },
  {
   "cell_type": "markdown",
   "metadata": {},
   "source": [
    "#### [환경설정]"
   ]
  },
  {
   "cell_type": "code",
   "execution_count": 2,
   "metadata": {
    "collapsed": true
   },
   "outputs": [],
   "source": [
    "# 학습 데이터 수 선언\n",
    "# y = 0 인 클래스\n",
    "Y_0 = 20\n",
    "# y = 1 인 클래스\n",
    "Y_1 = 15\n",
    "# 모델 최적화를 위한 학습률 선언\n",
    "learningRate = 0.01\n",
    "# 총 학습 횟수\n",
    "totalStep = 20001"
   ]
  },
  {
   "cell_type": "markdown",
   "metadata": {},
   "source": [
    "#### [빌드단계] Step 1) 학습 데이터 준비"
   ]
  },
  {
   "cell_type": "code",
   "execution_count": 3,
   "metadata": {},
   "outputs": [
    {
     "name": "stdout",
     "output_type": "stream",
     "text": [
      "===== Data =====>\n",
      "           x1         x2  y\n",
      "0   20.392049  18.307757  1\n",
      "1   10.308168  17.494702  0\n",
      "2    3.968656   7.334051  0\n",
      "3   11.628671  15.612881  0\n",
      "4   22.992714  12.788904  1\n",
      "5   19.954221  22.440430  1\n",
      "6    9.257684  13.886268  0\n",
      "7   10.166973   7.045962  0\n",
      "8   13.645120  10.916999  0\n",
      "9   11.938137  12.676320  0\n",
      "10   4.887489   8.221167  0\n",
      "11   7.260346  26.070007  1\n",
      "12   5.115159   4.908147  0\n",
      "13  18.641815  28.669500  1\n",
      "14  13.909982  21.514035  1\n",
      "15  18.459141  12.653257  1\n",
      "16   9.452312   8.982788  0\n",
      "17  10.771531  18.314100  0\n",
      "18  18.935671  18.916826  1\n",
      "19   0.859908   7.701182  0\n",
      "20  22.533939  21.979122  1\n",
      "21  16.074504   9.649865  0\n",
      "22   2.669742   9.601744  0\n",
      "23   6.103578   8.957654  0\n",
      "24   5.392252   9.474101  0\n",
      "25   9.399598  18.153629  0\n",
      "26  26.422975  19.157829  1\n",
      "27  16.301497  20.998453  1\n",
      "28   6.023998  12.843747  0\n",
      "29  19.247344  13.445923  1\n",
      "30   8.068010  10.380591  0\n",
      "31  18.349250  26.059253  1\n",
      "32  22.608064  23.453930  1\n",
      "33   8.731686   8.735579  0\n",
      "34  21.642647  19.401378  1\n",
      "df_totalTrainData Shape : (35, 3)\n",
      "\n",
      "xTrainData shape : (35, 2)\n",
      "yTrainData shape : (35,)\n",
      "yTrainData reshape : (35, 1)\n"
     ]
    }
   ],
   "source": [
    "# 항상 같은 난수를 생성하기 위하여 시드설정\n",
    "np.random.seed(321)\n",
    "\n",
    "# 확률(y)이 1 인 학습 데이터 생성\n",
    "# 데이터 수\n",
    "dataNumber_y0 = Y_0\n",
    "# 데이터 평균 값\n",
    "mu_y0 = [10,11]\n",
    "# 데이터 분산된 정도\n",
    "variance_y0 = 20\n",
    "# 난수 생성\n",
    "data_y0 = multivariate_normal(mu_y0, np.eye(2) * variance_y0, dataNumber_y0)\n",
    "df_y0 = DataFrame(data_y0, columns=['x1','x2'])\n",
    "df_y0['y'] = 0\n",
    "\n",
    "\n",
    "# 확률(y)이 1 인 학습 데이터 생성\n",
    "# 데이터 수\n",
    "dataNumber_y1 = Y_1\n",
    "# 데이터 평균 값\n",
    "mu_y1 = [18,20]\n",
    "# 데이터 분산된 정도\n",
    "variance_y1 = 22\n",
    "# 난수 생성\n",
    "data1 = multivariate_normal(mu_y1, np.eye(2)*variance_y1, dataNumber_y1)\n",
    "df_y1 = DataFrame(data1, columns=['x1','x2'])\n",
    "df_y1['y'] = 1\n",
    "\n",
    "# 확률(y)이 0, 1로 생성한 데이터를 하나의 DataFrame으로 합치기\n",
    "df = pd.concat([df_y0, df_y1], ignore_index = True)\n",
    "# 순서에 상관없이 데이터 정렬\n",
    "df_totalTrainData = df.reindex(permutation(df.index)).reset_index(drop=True)\n",
    "\n",
    "\n",
    "# 데이터 확인\n",
    "print(\"===== Data =====>\")\n",
    "print(df_totalTrainData)\n",
    "# 학습 데이터 shape 확인\n",
    "print(\"df_totalTrainData Shape : {}\\n\".format(df_totalTrainData.shape))\n",
    "\n",
    "\n",
    "# 학습 데이터 리스트로 변환\n",
    "xTrainData = df_totalTrainData[['x1', 'x2']].as_matrix()\n",
    "yTrainData_temp = df_totalTrainData['y'].as_matrix()\n",
    "print(\"xTrainData shape : {}\".format(xTrainData.shape))\n",
    "print(\"yTrainData shape : {}\".format(yTrainData_temp.shape))\n",
    "# yTrainData를 (35,1)의 shape로 변경\n",
    "yTrainData = yTrainData_temp.reshape([len(df_totalTrainData), 1])\n",
    "print(\"yTrainData reshape : {}\".format(yTrainData.shape))"
   ]
  },
  {
   "cell_type": "markdown",
   "metadata": {},
   "source": [
    "#### [빌드단계] Step 2) 모델 생성을 위한 변수 초기화"
   ]
  },
  {
   "cell_type": "code",
   "execution_count": 4,
   "metadata": {
    "collapsed": true
   },
   "outputs": [],
   "source": [
    "# 학습 데이터(x1,x2)가 들어갈 플레이스 홀더 선언\n",
    "X = tf.placeholder(tf.float32, shape = [None,2])\n",
    "# 학습 데이터(y)가 들어갈 플레이스 홀더 선언\n",
    "Y = tf.placeholder(tf.float32, shape = [None,1])\n",
    "\n",
    "# Weight 변수 선언\n",
    "W = tf.Variable(tf.zeros([2,1]), name = 'weight')\n",
    "# Bias 변수 선언\n",
    "b = tf.Variable(tf.zeros([1]), name = 'bias')"
   ]
  },
  {
   "cell_type": "markdown",
   "metadata": {},
   "source": [
    "#### [빌드단계] 3) 학습 모델 그래프 구성"
   ]
  },
  {
   "cell_type": "code",
   "execution_count": 5,
   "metadata": {
    "collapsed": true
   },
   "outputs": [],
   "source": [
    "# 3-1) 학습 데이터를 대표 하는 가설 그래프 선언\n",
    "hypothesis = tf.sigmoid(tf.matmul(X, W) + b)\n",
    "\n",
    "# 3-2) 비용함수(오차함수,손실함수) 선언\n",
    "costFunction = -tf.reduce_mean(Y * tf.log(hypothesis) + (1 - Y) * tf.log(1 - hypothesis))\n",
    "\n",
    "# 3-3) 비용함수의 값이 최소가 되도록 하는 최적화함수 선언\n",
    "optimizer = tf.train.GradientDescentOptimizer(learning_rate=learningRate)\n",
    "train = optimizer.minimize(costFunction)"
   ]
  },
  {
   "cell_type": "markdown",
   "metadata": {},
   "source": [
    "#### [실행단계] 학습 모델 그래프를 실행"
   ]
  },
  {
   "cell_type": "code",
   "execution_count": 6,
   "metadata": {},
   "outputs": [
    {
     "name": "stdout",
     "output_type": "stream",
     "text": [
      "--------------------------------------------------------------------------------\n",
      "Train(Optimization) Start\n",
      "step : 0. cost : 0.6931471824645996, accuracy : 0.0\n",
      "step : 2000. cost : 0.3803124725818634, accuracy : 0.9142857193946838\n",
      "step : 4000. cost : 0.28600645065307617, accuracy : 0.9428571462631226\n",
      "step : 6000. cost : 0.23830272257328033, accuracy : 0.9714285731315613\n",
      "step : 8000. cost : 0.20899467170238495, accuracy : 0.9714285731315613\n",
      "step : 10000. cost : 0.1888035386800766, accuracy : 0.9714285731315613\n",
      "step : 12000. cost : 0.17383189499378204, accuracy : 0.9714285731315613\n",
      "step : 14000. cost : 0.16215457022190094, accuracy : 1.0\n",
      "step : 16000. cost : 0.15270663797855377, accuracy : 1.0\n",
      "step : 18000. cost : 0.14484789967536926, accuracy : 1.0\n",
      "step : 20000. cost : 0.13816888630390167, accuracy : 1.0\n",
      "Train Finished\n",
      "--------------------------------------------------------------------------------\n",
      "[Train Result]\n",
      "W1 value : 0.3284957706928253, W2 value : 0.2278052419424057, b Value : -8.206147193908691\n",
      "\n",
      "Hypothesis : [[0.9348174 ]\n",
      " [0.30267903]\n",
      " [0.00531589]\n",
      " [0.3037546 ]\n",
      " [0.9055303 ]\n",
      " [0.9695509 ]\n",
      " [0.11902741]\n",
      " [0.03692536]\n",
      " [0.22498763]\n",
      " [0.19832636]\n",
      " [0.00876832]\n",
      " [0.52939856]\n",
      " [0.00446177]\n",
      " [0.9884411 ]\n",
      " [0.77975404]\n",
      " [0.6770135 ]\n",
      " [0.04501172]\n",
      " [0.3785524 ]\n",
      " [0.91080415]\n",
      " [0.00208833]\n",
      " [0.9852712 ]\n",
      " [0.3257545 ]\n",
      " [0.00581305]\n",
      " [0.01535943]\n",
      " [0.01369999]\n",
      " [0.27231133]\n",
      " [0.9921389 ]\n",
      " [0.873513  ]\n",
      " [0.03552263]\n",
      " [0.76487154]\n",
      " [0.03950252]\n",
      " [0.9772002 ]\n",
      " [0.9896814 ]\n",
      " [0.0339668 ]\n",
      " [0.96521306]] \n",
      "Prediction : [[ True]\n",
      " [ True]\n",
      " [ True]\n",
      " [ True]\n",
      " [ True]\n",
      " [ True]\n",
      " [ True]\n",
      " [ True]\n",
      " [ True]\n",
      " [ True]\n",
      " [ True]\n",
      " [ True]\n",
      " [ True]\n",
      " [ True]\n",
      " [ True]\n",
      " [ True]\n",
      " [ True]\n",
      " [ True]\n",
      " [ True]\n",
      " [ True]\n",
      " [ True]\n",
      " [ True]\n",
      " [ True]\n",
      " [ True]\n",
      " [ True]\n",
      " [ True]\n",
      " [ True]\n",
      " [ True]\n",
      " [ True]\n",
      " [ True]\n",
      " [ True]\n",
      " [ True]\n",
      " [ True]\n",
      " [ True]\n",
      " [ True]] \n",
      "Accuracy : 1.0\n",
      "--------------------------------------------------------------------------------\n"
     ]
    },
    {
     "data": {
      "image/png": "[encoded data removed]",
      "text/plain": [
       "<Figure size 432x432 with 1 Axes>"
      ]
     },
     "metadata": {},
     "output_type": "display_data"
    },
    {
     "data": {
      "image/png": "[encoded data removed]",
      "text/plain": [
       "<Figure size 432x288 with 1 Axes>"
      ]
     },
     "metadata": {},
     "output_type": "display_data"
    }
   ],
   "source": [
    "# 실행을 위한 세션 선언\n",
    "sess = tf.Session()\n",
    "# 최적화 과정을 통하여 구해질 변수 W,b 초기화\n",
    "sess.run(tf.global_variables_initializer())\n",
    "\n",
    "\n",
    "# 예측값, 정확도 수식 선언\n",
    "predicted = tf.equal(tf.sign(hypothesis-0.5), tf.sign(Y-0.5))\n",
    "accuracy = tf.reduce_mean(tf.cast(predicted, tf.float32))\n",
    "\n",
    "# 학습 정확도를 저장할 리스트 선언\n",
    "train_accuracy = list()\n",
    "\n",
    "print(\"--------------------------------------------------------------------------------\")\n",
    "print(\"Train(Optimization) Start\")\n",
    "for step in range(totalStep):\n",
    "    # X, Y에 학습데이터 입력하여 비용함수, W, b, accuracy, train을 실행\n",
    "    cost_val, acc_val, _ = sess.run([costFunction, accuracy, train],\n",
    "                                    feed_dict = {X: xTrainData, Y: yTrainData})\n",
    "    train_accuracy.append(acc_val)\n",
    "\n",
    "    if step % 2000 == 0:\n",
    "        print(\"step : {}. cost : {}, accuracy : {}\".format(step, cost_val, acc_val))\n",
    "\n",
    "print(\"Train Finished\")\n",
    "print(\"--------------------------------------------------------------------------------\")\n",
    "print(\"[Train Result]\")\n",
    "# 최적화가 끝난 W, b 변수의 값\n",
    "W_val, b_val = sess.run([W,b])\n",
    "W1Value, W2Value, b_Value, = W_val[0][0], W_val[1][0], b_val[0]\n",
    "print(\"W1 value : {}, W2 value : {}, b Value : {}\".format(W1Value, W2Value, b_Value))\n",
    "h_val, p_val, a_val = sess.run([hypothesis, predicted, accuracy],\n",
    "                               feed_dict={X: xTrainData, Y: yTrainData})\n",
    "print(\"\\nHypothesis : {} \\nPrediction : {} \\nAccuracy : {}\".format(h_val,p_val,a_val))\n",
    "print(\"--------------------------------------------------------------------------------\")\n",
    "\n",
    "\n",
    "\n",
    "# matplotlib 를 이용하여 결과를 시각화\n",
    "trainData_y0 = df_totalTrainData[df_totalTrainData['y']==0]\n",
    "trainData_y1 = df_totalTrainData[df_totalTrainData['y']==1]\n",
    "\n",
    "fig = plt.figure(figsize=(6,6))\n",
    "subplot = fig.add_subplot(1,1,1)\n",
    "subplot.set_ylim([0,30])\n",
    "subplot.set_xlim([0,30])\n",
    "subplot.scatter(trainData_y1.x1, trainData_y1.x2, marker='x')\n",
    "subplot.scatter(trainData_y0.x1, trainData_y0.x2, marker='o')\n",
    "\n",
    "linex = np.linspace(0,30,10)\n",
    "liney = - (W1Value*linex/W2Value + b_Value/W2Value)\n",
    "subplot.plot(linex, liney)\n",
    "\n",
    "field = [\n",
    "            [\n",
    "                (1 / (1 + np.exp(-(b_Value + W1Value*x1 + W2Value*x2)))) for x1 in np.linspace(0,30,100)\n",
    "            ]\n",
    "                for x2 in np.linspace(0,30,100)\n",
    "        ]\n",
    "\n",
    "subplot.imshow(field, origin='lower', extent=(0,30,0,30), cmap=plt.cm.gray_r, alpha=0.5)\n",
    "plt.show()\n",
    "\n",
    "# 정확도 결과 확인 그래프\n",
    "plt.plot(range(len(train_accuracy)), train_accuracy, linewidth = 2, label = 'Training')\n",
    "plt.legend()\n",
    "plt.title(\"Accuracy Result\")\n",
    "plt.show()\n",
    "\n",
    "#세션종료\n",
    "sess.close()"
   ]
  },
  {
   "cell_type": "code",
   "execution_count": null,
   "metadata": {
    "collapsed": true
   },
   "outputs": [],
   "source": []
  }
 ],
 "metadata": {
  "kernelspec": {
   "display_name": "Python 3",
   "language": "python",
   "name": "python3"
  },
  "language_info": {
   "codemirror_mode": {
    "name": "ipython",
    "version": 3
   },
   "file_extension": ".py",
   "mimetype": "text/x-python",
   "name": "python",
   "nbconvert_exporter": "python",
   "pygments_lexer": "ipython3",
   "version": "3.6.2"
  }
 },
 "nbformat": 4,
 "nbformat_minor": 2
}
